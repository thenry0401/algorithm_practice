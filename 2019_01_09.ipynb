{
 "cells": [
  {
   "cell_type": "code",
   "execution_count": 36,
   "metadata": {},
   "outputs": [],
   "source": [
    "\"\"\"\n",
    "<<< LeetCode 7. Reverse Integer >>>\n",
    "\"\"\"\n",
    "\n",
    "# 숫자가 주어지면 부호는 그대로두고 숫자의 자리를 뒤집어서 출력하는 문제\n",
    "\n",
    "# 숫자를 문자열로 바꾼 뒤 순서를 바꿔주는 방법을 이용했다\n",
    "\n",
    "class Solution:\n",
    "    def reverse(self, x):\n",
    "        if x < 0:\n",
    "            x = -x\n",
    "            rev_str = str(x)[::-1]\n",
    "            rev_str = int(rev_str)\n",
    "            answer = -rev_str\n",
    "            \n",
    "        else:\n",
    "            rev_str = str(x)[::-1]\n",
    "            rev_str = int(rev_str)\n",
    "            answer = rev_str\n",
    "        \n",
    "        return answer"
   ]
  },
  {
   "cell_type": "code",
   "execution_count": 42,
   "metadata": {},
   "outputs": [
    {
     "data": {
      "text/plain": [
       "21"
      ]
     },
     "execution_count": 42,
     "metadata": {},
     "output_type": "execute_result"
    }
   ],
   "source": [
    "x = 120\n",
    "\n",
    "a = Solution()\n",
    "a.reverse(x)"
   ]
  },
  {
   "cell_type": "code",
   "execution_count": 32,
   "metadata": {},
   "outputs": [
    {
     "data": {
      "text/plain": [
       "''"
      ]
     },
     "execution_count": 32,
     "metadata": {},
     "output_type": "execute_result"
    }
   ],
   "source": []
  }
 ],
 "metadata": {
  "kernelspec": {
   "display_name": "Python 3",
   "language": "python",
   "name": "python3"
  },
  "language_info": {
   "codemirror_mode": {
    "name": "ipython",
    "version": 3
   },
   "file_extension": ".py",
   "mimetype": "text/x-python",
   "name": "python",
   "nbconvert_exporter": "python",
   "pygments_lexer": "ipython3",
   "version": "3.6.0"
  }
 },
 "nbformat": 4,
 "nbformat_minor": 2
}
