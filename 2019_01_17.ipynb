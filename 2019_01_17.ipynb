{
 "cells": [
  {
   "cell_type": "code",
   "execution_count": null,
   "metadata": {
    "collapsed": true
   },
   "outputs": [],
   "source": [
    "# 프로그래머스 알고리즘 문제\n",
    "\n",
    "# 수많은 마라톤 선수들이 마라톤에 참여하였습니다.\n",
    "# 단 한 명의 선수를 제외하고는 모든 선수가 마라톤을 완주하였습니다.\n",
    "\n",
    "#마라톤에 참여한 선수들의 이름이 담긴 배열 participant와 \n",
    "# 완주한 선수들의 이름이 담긴 배열 completion이 주어질 때, \n",
    "# 완주하지 못한 선수의 이름을 return 하도록 solution 함수를 작성해주세요.\n",
    "\n",
    "# 제한사항\n",
    "# 마라톤 경기에 참여한 선수의 수는 1명 이상 100,000명 이하입니다.\n",
    "# completion의 길이는 participant의 길이보다 1 작습니다.\n",
    "# 참가자의 이름은 1개 이상 20개 이하의 알파벳 소문자로 이루어져 있습니다.\n",
    "# 참가자 중에는 동명이인이 있을 수 있습니다."
   ]
  },
  {
   "cell_type": "code",
   "execution_count": 31,
   "metadata": {
    "collapsed": true
   },
   "outputs": [],
   "source": [
    "def solution(participant, completion):\n",
    "    l1 = participant\n",
    "    l2 = completion\n",
    "    answer = ''\n",
    "    for i in range(len(l1)):\n",
    "        for j in range(len(l2)):\n",
    "            if l1[i] == l2[j]:\n",
    "                l1.insert(i+1, \"deleted\")\n",
    "                l1.remove(l1[i])\n",
    "                l2.insert(j+1, \"deleted\")\n",
    "                l2.remove(l2[j])\n",
    "    for i in range(len(l1)):\n",
    "        if l1[i] != \"deleted\":\n",
    "            answer += l1[i]\n",
    "    return answer\n",
    "    "
   ]
  },
  {
   "cell_type": "code",
   "execution_count": 32,
   "metadata": {},
   "outputs": [
    {
     "data": {
      "text/plain": [
       "'c'"
      ]
     },
     "execution_count": 32,
     "metadata": {},
     "output_type": "execute_result"
    }
   ],
   "source": [
    "participant = [\"a\", \"b\", \"c\"]\n",
    "completion = [\"a\", \"b\"]\n",
    "\n",
    "solution(participant, completion)"
   ]
  },
  {
   "cell_type": "code",
   "execution_count": null,
   "metadata": {
    "collapsed": true
   },
   "outputs": [],
   "source": []
  }
 ],
 "metadata": {
  "kernelspec": {
   "display_name": "Python 3",
   "language": "python",
   "name": "python3"
  },
  "language_info": {
   "codemirror_mode": {
    "name": "ipython",
    "version": 3
   },
   "file_extension": ".py",
   "mimetype": "text/x-python",
   "name": "python",
   "nbconvert_exporter": "python",
   "pygments_lexer": "ipython3",
   "version": "3.6.0"
  }
 },
 "nbformat": 4,
 "nbformat_minor": 2
}
