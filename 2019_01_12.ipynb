{
 "cells": [
  {
   "cell_type": "code",
   "execution_count": null,
   "metadata": {
    "collapsed": true
   },
   "outputs": [],
   "source": [
    "# LeetCode \n",
    "# Palindrome Number 문제\n",
    "\n",
    "# 숫자를 거꾸로 읽었을때 원래 숫자와 같으면 True 아니면 False 값을 출력\n",
    "# - 부호가 붙으면 -121 ==> 121- 와 같이 됨으로 True가 아니다\n",
    "\n",
    "class Solution:\n",
    "    def isPalindrome(self, x):\n",
    "        \"\"\"\n",
    "        :type x: int\n",
    "        :rtype: bool\n",
    "        \"\"\"\n",
    "        # 입력된 숫자를 문자열로 바꾼 뒤 순서를 바꿔준다    \n",
    "        rev_x = str(x)[::-1]\n",
    "        if str(x) == rev_x:\n",
    "            return True\n",
    "        else:\n",
    "            return False"
   ]
  }
 ],
 "metadata": {
  "kernelspec": {
   "display_name": "Python 3",
   "language": "python",
   "name": "python3"
  },
  "language_info": {
   "codemirror_mode": {
    "name": "ipython",
    "version": 3
   },
   "file_extension": ".py",
   "mimetype": "text/x-python",
   "name": "python",
   "nbconvert_exporter": "python",
   "pygments_lexer": "ipython3",
   "version": "3.6.0"
  }
 },
 "nbformat": 4,
 "nbformat_minor": 2
}
