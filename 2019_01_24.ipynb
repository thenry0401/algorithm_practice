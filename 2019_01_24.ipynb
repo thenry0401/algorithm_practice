{
 "cells": [
  {
   "cell_type": "code",
   "execution_count": 16,
   "metadata": {
    "collapsed": true
   },
   "outputs": [],
   "source": [
    "# 프로그래머스 알고리즘 문제\n",
    "# K 번째 수\n",
    "\n",
    "# 배열 array의 i번째 숫자부터 j번째 숫자까지 자르고 정렬했을 때, k번째에 있는 수를 구한다.\n",
    "\n",
    "# 예를 들어 array가 [1, 5, 2, 6, 3, 7, 4], i = 2, j = 5, k = 3이라면\n",
    "# array의 2번째부터 5번째까지 자르면 [5, 2, 6, 3]입니다.\n",
    "# 1에서 나온 배열을 정렬하면 [2, 3, 5, 6]입니다.\n",
    "# 2에서 나온 배열의 3번째 숫자는 5입니다."
   ]
  },
  {
   "cell_type": "code",
   "execution_count": 17,
   "metadata": {},
   "outputs": [],
   "source": [
    "def solution(array, commands):\n",
    "    answer = []\n",
    "    for i in commands:\n",
    "        # commands의 각각 리스트를 뽑는다\n",
    "        # array 리스트를 array[::]로 슬라이스 한다\n",
    "        # 슬라이스 된 리스트를 sorted()로 정렬한다\n",
    "        # 정렬된 리스트에서 특정 번째 숫자를 뽑는다\n",
    "        answer.append(sorted(array[i[0]-1:i[1]])[i[2]-1])\n",
    "    return answer"
   ]
  },
  {
   "cell_type": "code",
   "execution_count": 18,
   "metadata": {},
   "outputs": [
    {
     "data": {
      "text/plain": [
       "[5, 6, 3]"
      ]
     },
     "execution_count": 18,
     "metadata": {},
     "output_type": "execute_result"
    }
   ],
   "source": [
    "array = [1, 5, 2, 6, 3, 7, 4]\n",
    "commands = [[2, 5, 3], [4, 4, 1], [1, 7, 3]]\n",
    "\n",
    "solution(array, commands)"
   ]
  },
  {
   "cell_type": "code",
   "execution_count": null,
   "metadata": {
    "collapsed": true
   },
   "outputs": [],
   "source": []
  }
 ],
 "metadata": {
  "kernelspec": {
   "display_name": "Python 3",
   "language": "python",
   "name": "python3"
  },
  "language_info": {
   "codemirror_mode": {
    "name": "ipython",
    "version": 3
   },
   "file_extension": ".py",
   "mimetype": "text/x-python",
   "name": "python",
   "nbconvert_exporter": "python",
   "pygments_lexer": "ipython3",
   "version": "3.6.0"
  }
 },
 "nbformat": 4,
 "nbformat_minor": 2
}
