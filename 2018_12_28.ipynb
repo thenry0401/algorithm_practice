{
 "cells": [
  {
   "cell_type": "code",
   "execution_count": 33,
   "metadata": {},
   "outputs": [],
   "source": [
    "class Solution:\n",
    "    def twoSum(self, nums, target):\n",
    "        answer = []\n",
    "        leng = len(nums)\n",
    "        \n",
    "        for i in range(leng-1):\n",
    "            for j in range(1, leng):\n",
    "                if nums[i] + nums[j] == target:\n",
    "                    answer += [i,j]\n",
    "                    print(\"({}, {}), ({}, {})\".format(nums[i], nums[j], i, j))\n",
    "        \n",
    "        return answer\n",
    "        \n",
    "        "
   ]
  },
  {
   "cell_type": "code",
   "execution_count": 34,
   "metadata": {},
   "outputs": [
    {
     "name": "stdout",
     "output_type": "stream",
     "text": [
      "(5, 5), (1, 1)\n",
      "(5, 5), (1, 2)\n",
      "(5, 5), (2, 1)\n",
      "(5, 5), (2, 2)\n"
     ]
    },
    {
     "data": {
      "text/plain": [
       "[1, 1, 1, 2, 2, 1, 2, 2]"
      ]
     },
     "execution_count": 34,
     "metadata": {},
     "output_type": "execute_result"
    }
   ],
   "source": [
    "nums = [2, 5, 5, 11]\n",
    "target = 10\n",
    "\n",
    "a = Solution()\n",
    "a.twoSum(nums, target)"
   ]
  }
 ],
 "metadata": {
  "kernelspec": {
   "display_name": "Python 3",
   "language": "python",
   "name": "python3"
  },
  "language_info": {
   "codemirror_mode": {
    "name": "ipython",
    "version": 3
   },
   "file_extension": ".py",
   "mimetype": "text/x-python",
   "name": "python",
   "nbconvert_exporter": "python",
   "pygments_lexer": "ipython3",
   "version": "3.6.0"
  }
 },
 "nbformat": 4,
 "nbformat_minor": 2
}
