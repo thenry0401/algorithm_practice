{
 "cells": [
  {
   "cell_type": "code",
   "execution_count": null,
   "metadata": {
    "collapsed": true
   },
   "outputs": [],
   "source": [
    "\"\"\"\n",
    "LeetCode\n",
    "\n",
    "Roman to Integer\n",
    "\n",
    "<로마숫자>\n",
    "\n",
    "Symbol       Value\n",
    "I             1\n",
    "V             5\n",
    "X             10\n",
    "L             50\n",
    "C             100\n",
    "D             500\n",
    "M             1000\n",
    "\n",
    "12는 XII, 27은 XXVII라고 쓰듯이 큰 숫자를 왼쪽에서부터 쓴다\n",
    "숫자 4는 IIII가 아니고 IV이다\n",
    "숫자 9도 IX라고 쓴다\n",
    "\n",
    "I 는 V (5) 와 X (10) 의 앞에 올 수 있다 (숫자 4와 9) \n",
    "X 는 L (50) 와 C (100) 의 앞에 올 수 있다 (숫자 40 과 90)\n",
    "C 는 D (500) 와 M (1000) 의 앞에 올 수 있다 (숫자 400 와 900)\n",
    "\n",
    "주어지는 로마숫자를 정수로 변환해라\n",
    "\"\"\""
   ]
  },
  {
   "cell_type": "code",
   "execution_count": 193,
   "metadata": {},
   "outputs": [],
   "source": [
    "# 1.   list() 함수를 사용하여 인풋값을 리스트 형태로 변환한다\n",
    "# 2-1. 리스트의 각 알파벳을 숫자로 변환한다\n",
    "# 2-2. 각 로마숫자별로 확인한다\n",
    "# 2-3. IV같은 경우를 확인하기 위해 I, X, C일때는 뒤에 무엇이 오는지 확인한다\n",
    "# 2-4. 가장 맨뒤의 요소를 확인할떄는 Index out of range 오류가 발생하기 때문에 try except구문 사용\n",
    "# 3.   숫자로 바뀐 리스트의 모든 요소를 다 더한다\n",
    "\n",
    "class Solution:\n",
    "    def romanToInt(self, s):\n",
    "        li = list(s)\n",
    "        result = 0\n",
    "        for i in range(len(li)):\n",
    "            print(li)\n",
    "            if li[i] == \"I\":\n",
    "                try:\n",
    "                    if li[i+1] == \"V\":\n",
    "                        li.insert(i, \"4\")\n",
    "                        li.insert(i, \"0\")\n",
    "                        li.remove(li[i+2])\n",
    "                        li.remove(li[i+2])\n",
    "                    elif li[i+1] == \"X\":\n",
    "                        li.insert(i, \"9\")\n",
    "                        li.insert(i, \"0\")\n",
    "                        li.remove(li[i+2])\n",
    "                        li.remove(li[i+2])\n",
    "                    else:\n",
    "                        li.insert(i, \"1\")\n",
    "                        li.remove(li[i+1])\n",
    "                except IndexError:\n",
    "                    li.insert(i, \"1\")\n",
    "                    li.remove(li[i+1])\n",
    "                    \n",
    "            elif li[i] == \"V\":\n",
    "                li.insert(i, \"5\")\n",
    "                li.remove(li[i+1])\n",
    "                \n",
    "            elif li[i] == \"X\":\n",
    "                try:\n",
    "                    if li[i+1] == \"L\":\n",
    "                        li.insert(i, \"40\")\n",
    "                        li.insert(i, \"0\")\n",
    "                        li.remove(li[i+2])\n",
    "                        li.remove(li[i+2])\n",
    "                    elif li[i+1] == \"C\":\n",
    "                        li.insert(i, \"90\")\n",
    "                        li.insert(i, \"0\")\n",
    "                        li.remove(li[i+2])\n",
    "                        li.remove(li[i+2])\n",
    "                    else:\n",
    "                        li.insert(i, \"10\")\n",
    "                        li.remove(li[i+1])\n",
    "                except IndexError:\n",
    "                    li.insert(i, \"10\")\n",
    "                    li.remove(li[i+1])\n",
    "                \n",
    "            elif li[i] == \"L\":\n",
    "                li.insert(i, \"50\")\n",
    "                li.remove(li[i+1])\n",
    "                \n",
    "            elif li[i] == \"C\":\n",
    "                try:\n",
    "                    if li[i+1] == \"D\":\n",
    "                        li.insert(i, \"400\")\n",
    "                        li.insert(i, \"0\")\n",
    "                        li.remove(li[i+2])\n",
    "                        li.remove(li[i+2])\n",
    "                    elif li[i+1] == \"M\":\n",
    "                        li.insert(i, \"900\")\n",
    "                        li.insert(i, \"0\")\n",
    "                        li.remove(li[i+2])\n",
    "                        li.remove(li[i+2])\n",
    "                    else:\n",
    "                        li.insert(i, \"100\")\n",
    "                        li.remove(li[i+1])\n",
    "                except IndexError:\n",
    "                    li.insert(i, \"100\")\n",
    "                    li.remove(li[i+1])\n",
    "                \n",
    "            elif li[i] == \"D\":\n",
    "                li.insert(i, \"500\")\n",
    "                li.remove(li[i+1])\n",
    "                \n",
    "            elif li[i] == \"M\":\n",
    "                li.insert(i, \"1000\")\n",
    "                li.remove(li[i+1])\n",
    "        print(li)\n",
    "        for i in range(len(li)):\n",
    "            result += int(li[i])\n",
    "        \n",
    "        return result\n",
    "        \n",
    "        "
   ]
  },
  {
   "cell_type": "code",
   "execution_count": 199,
   "metadata": {},
   "outputs": [
    {
     "name": "stdout",
     "output_type": "stream",
     "text": [
      "['M', 'M', 'M', 'C', 'X', 'V', 'I', 'I']\n",
      "['1000', 'M', 'M', 'C', 'X', 'V', 'I', 'I']\n",
      "['1000', '1000', 'M', 'C', 'X', 'V', 'I', 'I']\n",
      "['1000', '1000', '1000', 'C', 'X', 'V', 'I', 'I']\n",
      "['1000', '1000', '1000', '100', 'X', 'V', 'I', 'I']\n",
      "['1000', '1000', '1000', '100', '10', 'V', 'I', 'I']\n",
      "['1000', '1000', '1000', '100', '10', '5', 'I', 'I']\n",
      "['1000', '1000', '1000', '100', '10', '5', '1', 'I']\n",
      "['1000', '1000', '1000', '100', '10', '5', '1', '1']\n"
     ]
    },
    {
     "data": {
      "text/plain": [
       "3117"
      ]
     },
     "execution_count": 199,
     "metadata": {},
     "output_type": "execute_result"
    }
   ],
   "source": [
    "s = \"MMMCXVII\"\n",
    "\n",
    "a = Solution()\n",
    "a.romanToInt(s)"
   ]
  },
  {
   "cell_type": "code",
   "execution_count": null,
   "metadata": {},
   "outputs": [],
   "source": [
    "\n"
   ]
  }
 ],
 "metadata": {
  "kernelspec": {
   "display_name": "Python 3",
   "language": "python",
   "name": "python3"
  },
  "language_info": {
   "codemirror_mode": {
    "name": "ipython",
    "version": 3
   },
   "file_extension": ".py",
   "mimetype": "text/x-python",
   "name": "python",
   "nbconvert_exporter": "python",
   "pygments_lexer": "ipython3",
   "version": "3.6.0"
  }
 },
 "nbformat": 4,
 "nbformat_minor": 2
}
